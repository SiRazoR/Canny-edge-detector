{
 "cells": [
  {
   "cell_type": "markdown",
   "metadata": {},
   "source": [
    "#  Canny Edge Detection\n",
    "W naszym projekcie zdecydowaliśmy się na użycie modelu służącego do wykrywania krawędzi o nazwie Canny Edge Detection. Jego nazwa pochodzi od nazwiska człowieka który go opracowa czylł Johna F. Canny.Celem metody Canny jest określenie optymalnego algorytmu detekcji. Słowo „optymalny” oznacza tu:\n",
    "\n",
    " - dobrą detekcję – algorytm powinien wykryć tak dużo krawędzi jak to tylko możliwe.\n",
    " - dobre umiejscowienie – oznaczona krawędź powinna być jak najbliżej rzeczywistej krawędzi na obrazie.\n",
    " - minimalną odpowiedź – konkretna krawędź powinna być oznaczona tylko raz, i jeśli tylko możliwe, zakłócenia (szum) w obrazie nie powinny tworzyć fałszywych krawędzi.\n",
    "\n",
    "Aby spełnić powyższe wymagania Canny wykorzystał rachunek wariacyjny – technikę która wyszukuje funkcję, która optymalizuje dany funkcjonał. Optymalna funkcja w detektorze Canny’ego opisana jest przez sumę czterech wykładniczych warunków, ale może być przybliżona pierwszą pochodną funkcji Gaussa.\n",
    "\n",
    "# Kroki Algorytmu\n",
    "1. Detektor krawędzi Canny’ego wykorzystuje filtr bazujący na pierwszej pochodnej funkcji Gaussa, ponieważ jest czuły na obecność szumu w surowym nieobrobionym obrazie. Więc, aby zacząć, należy dokonać splotu obrazu z filtrem Gaussa. Efektem tego działania jest lekko rozmazany obraz, który nie jest dotknięty pojedynczymi zakłóceniami w żaden znaczący sposób.\n",
    "2. Krawędź na obrazie może być skierowana w różnych kierunkach. Algorytm Canny’ego wykorzystuje więc cztery filtry do detekcji poziomych, pionowych oraz przekątnych krawędzi na wygładzonym obrazie. Operatory detekcji krawędzi (np. Krzyż Robertsa, Prewitt, Sobel) zwracają wartości pierwszej pochodnej dla kierunku poziomego (Gy) i kierunku pionowego (Gx). Nachylenie (gradient, szybkość narastania) krawędzi oraz jej kierunek mogą być określone na podstawie poniższych wzorów:\n",
    " [![N|Solid](https://i.imgur.com/AJkSkJb.png)](https://i.imgur.com/AJkSkJb.png)\n",
    "3. Trzeci etap obejmuje „pocienianie” krawędzi w sposób zapewniający ich ciągłość. Efektem jest ciągła linia złożona z pojedynczych pikseli.\n",
    "4. Ostatni etap – progowanie ma na celu usunięcie nieistotnych krawędzi, które mają nachylenie (stromość) poniżej ustawionego progu. Progowanie z histerezą powoduje, że do już wykrytych krawędzi są dołączane następne piksele mimo spadku nachylenia, aż do osiągnięcia dolnego progu wykrywania. Takie postępowanie zapobiega dzieleniu krawędzi w miejscach słabszego kontrastu."
   ]
  },
  {
   "cell_type": "markdown",
   "metadata": {},
   "source": [
    "# Narzędzia pomocnicze\n",
    "Podczas implementacji użyliśmy biblioteki o nazwie OpenCV, wspiera ona wiele algorytmów zwiazanych z rozpozanwaniem obrazów oraz uczeniem maszynowym\n",
    "\n",
    "# Dane wejściowe\n",
    "W implementacji ustawione zostały między innymi, maksymalny próg na 100, nazwy okienka czy też ratio które jest mnożnikiem używanym przy obliczeniu drugiego progu podczas wykonywania alogrytmu. Mnożnik ten otrzymał wartość 3 jako iż jest to zalecana wartość przez twórców biblioteki OpenCV\n",
    "\n",
    "max_Threshold = 100\n",
    "window_name = 'Canny'\n",
    "title_trackbar = 'Min Threshold:'\n",
    "ratio = 3 \n",
    "apertureSize = 3 \n",
    "pathToImage = \"ścieżka_do_pliku_z_obrazem\"\n",
    "\n",
    "# Działanie\n",
    "Wykonanie wykrycia krawędzi zachodzi poprzez użycie metody z biblioteki CV2 zaimportowanej pod nazwą cv jako cv.Canny(). Metoda ta jako argumenty przyjmuje wcześnie przeprocesowany obrazek, pierwszy próg używany w procedurze, drugi próg oraz operator Sobela, ktory jest uzywany do wykrywania krawedzi w cyfrowym przetwarzaniu obrazow\n",
    "\n",
    "# Przykłady\n",
    "### 1. Postać z tłem o jasnym kolorze\n",
    "[![N|Solid](https://i.imgur.com/ZWeh34l.png)](https://i.imgur.com/ZWeh34l.png)\n",
    "### 2. Postać bez tła\n",
    "[![N|Solid](https://i.imgur.com/iRKx0hr.png)](https://i.imgur.com/iRKx0hr.png)\n",
    "### 3. Postać z różnokolorowym tłem\n",
    "[![N|Solid](https://i.imgur.com/vkTbBnD.jpg)](https://i.imgur.com/vkTbBnD.jpg)\n",
    "[![N|Solid](https://i.imgur.com/xKwtXMl.png)](https://i.imgur.com/xKwtXMl.png)"
   ]
  },
  {
   "cell_type": "code",
   "execution_count": 5,
   "metadata": {},
   "outputs": [
    {
     "data": {
      "text/plain": [
       "-1"
      ]
     },
     "execution_count": 5,
     "metadata": {},
     "output_type": "execute_result"
    }
   ],
   "source": [
    "import cv2 as cv\n",
    "\n",
    "max_Threshold = 100\n",
    "window_name = 'Canny'\n",
    "title_trackbar = 'Min Threshold:'\n",
    "ratio = 3 \n",
    "apertureSize = 3 \n",
    "pathToImage = \"C:\\\\Users\\\\kasztan\\\\Desktop\\\\wz-social-share.jpg\"\n",
    "\n",
    "def CannyThreshold(val):\n",
    "    low_threshold = val\n",
    "    img_blur = cv.blur(src_gray, (3,3))\n",
    "    detected_edges = cv.Canny(img_blur, low_threshold, low_threshold*ratio, apertureSize)\n",
    "    mask = detected_edges != 0\n",
    "    dst = src * (mask[:,:,None].astype(src.dtype))\n",
    "    cv.imshow(window_name, detected_edges)\n",
    "src = cv.imread(pathToImage)\n",
    "src_gray = cv.cvtColor(src, cv.COLOR_BGR2GRAY)\n",
    "cv.namedWindow(window_name)\n",
    "cv.createTrackbar(title_trackbar, window_name , 0, max_Threshold, CannyThreshold)\n",
    "CannyThreshold(0)\n",
    "cv.waitKey()"
   ]
  },
  {
   "cell_type": "markdown",
   "metadata": {},
   "source": [
    "# Oszacowanie oraz walidacja wybranego modelu uczenia maszynowego\n",
    "Walidację konkretnego modelu uczenia maszynowego określamy jako spełnienie przez model głównych kryteriów do których spełnienia on dąży. 3 głównymi kryteriami, do których spełnienia dąży algorytm Canny Edge Detection są:\n",
    "- niski wskaźnik błędu - skuteczne wykrywanie jedynie istniejących krawędzi,\n",
    "- dobra lokalizacja - odległość pomiędzy wykrytymi pikselami krawędzi i rzeczywistymi pikselami krawędzi musi być jak najmniejsza,\n",
    "- minimalna ilość odpowiedzi - konkretna krawędź powinna być oznaczona tylko raz\n",
    "\n",
    "Oszacowanie modelu polega na określeniu optymalnych danych wejściowych oraz wyznaczeniu kroków potrzebnych dla poprawnego przeprowadzenia algorytmu. Prawidłowe oszacowanie algorytmu Canny Edge Detection przeprowadzane jest w następujących krokach:\n",
    "### 1. Filtrowanie zagłuszeń.\n",
    " Stosowany do tego jest filtr Gaussa. Przykładem jądra Gaussa o rozmiarze 5, który może być użyty w filtrze, jest:\n",
    " \n",
    "[![N|Solid](https://imgur.com/aBiTgM0.png)](https://imgur.com/aBiTgM0.png)\n",
    "\n",
    "### 2. Określenie płynności przejścia tonalnego\n",
    "Aby ją uzyskać należy postąpić zgodnie z poniższą procedurą:\n",
    "- należy zastosować poniższą parę operatorów detekcji krawędzi zwracających wartość pierwszej pochodnej dla kierunku poziomego (Gy) i kierunku pionowego (Gx):\n",
    "\n",
    "[![N|Solid](https://imgur.com/Ui7F1xS.png)](https://imgur.com/Ui7F1xS.png)\n",
    "\n",
    "- należy wyznaczyć nachylenie i kierunek gradientu za pomocą wzorów:\n",
    "\n",
    "[![N|Solid](https://imgur.com/jisyeoF.png)](https://imgur.com/jisyeoF.png)\n",
    "\n",
    "Wartość wyznaczonego kierunku gradientu powinna zostać zaokrąglana do wartości kątowych, a dokładniej do jednej z czterech możliwości, tj. 0, 45, 90 lub 135.\n",
    "\n",
    "### 3. Zastosowanie tłumienia “nom-maximum”.\n",
    "Powoduje to usunięcie pikseli, które nie są uznawane za część krawędzi. Rezultatem tego procesu będzie pozostawienie na obrazie jedynie cienkich linii.\n",
    "\n",
    "### 4. Ostatnim procesem jest zastosowanie histerezy\n",
    "Jest to zjawisko opóźnienia w reakcji na czynnik zewnętrzny. W przypadku modelu Canny Edge Detection wyróżniamy 2 progi tego zjawiska ( próg górny oraz próg dolny):\n",
    "- jeżeli gradient pikselu jest większy od progu górnego, dany piksel jest uznawany jako krawędź i zamieniany na piksel biały,\n",
    "- jeżeli gradient pikselu jest mniejszy od progu dolnego, dany piksel jest uznawany jako odrzucany i zamieniany na piksel czarny,\n",
    "- jeżeli wartość gradientu pikselu jest pomiędzy progami, wtedy piksel zostanie uznany jako krawędź w sytuacji, jeżeli jest powiązany z innym pikselem, którego wartość gradientu znajduje się powyżej górnego progu."
   ]
  },
  {
   "cell_type": "markdown",
   "metadata": {},
   "source": [
    "# Zachowanie modelu przy zmiennej wartości progu\n",
    "\n",
    "### 1. Obraz wejściowy\n",
    "Przeanalizujemy zachowanie modelu bazując na zmianach w wartościach progów, które ma na celu usunięcie nieistotnych krawędzi, mających nachylenie (stromość) poniżej ustawionego progu. Doświadczenie będzie przeprowadzone na poniższej grafice:\n",
    "\n",
    "[![N|Solid](https://i.imgur.com/YIrBPPN.png)](https://i.imgur.com/YIrBPPN.png)\n",
    "\n",
    "### 2. Próg: 0\n",
    "W przypadku, gdy próg “Min threshold” jest ustawiony na 0, możemy zaobserwować wręcz przytłaczającą ilość krawędzi, które przez nas nie są postrzegane na oryginalnym zdjęciu jako krawędzie. Jedyne co jest widoczne to napis “WARZONE”.\n",
    "\n",
    "[![N|Solid](https://i.imgur.com/JYcOWrR.png)](https://i.imgur.com/JYcOWrR.png)\n",
    "\n",
    "### 3. Próg: 1-10\n",
    "Dla zmian progu w przedziale 0-5 niewiele się zmienia i wciąż nadmiar krawędzi na obrazku nie pozwala ustalić co się na nim znajduje, dopiero w przypadku, gdy próg zostanie ustawiony na 10 jesteśmy w stanie dostrzec drugą część tytułu czyli “CALL OF DUTY” oraz budynki z prawej i lepiej strony. Na samym środku jesteśmy w stanie zauważyć dwie postacie.\n",
    "[![N|Solid](https://imgur.com/8ymGS48.png)](https://imgur.com/8ymGS48.png)\n",
    "\n",
    "### 4. Próg: 35\n",
    "Dla prezentowanej grafiki najlepszy efekt uzyskujemy w przypadku, gdy próg wynosi 35 widać wtedy bardzo wyraźnie krawędzi budynków, postaci oraz helikopterów.\n",
    "[![N|Solid](https://imgur.com/rx9DXOq.png)](https://imgur.com/rx9DXOq.png)\n",
    "\n",
    "### 5. Próg: 45-100\n",
    "Od poziomu progu 45 w wzwyż zaczynamy tracić istotne krawędzie budynków, kolejno postaci i helikopterów.\n",
    "[![N|Solid](https://imgur.com/L7p6GEs.png)](https://imgur.com/L7p6GEs.png)\n",
    "\n",
    "W przypadku najwyższego progu - 100  widać pewne kontury jednak można zaobserwować istotne braki w porównaniu do obrazka z progiem wynoszącym 35. Nawiązując do przykładów z początku prezentacji możemy dojść do wniosku, że w przypadku jednolitego tła bardzo łatwo uzyskać naprawdę świetny efekt - obraz złożony z krawędzi, jednak w przypadku grafiki z tłem w którym znajduje się bardzo dużo krawędzi wymaga od nas dużej manipulacji zmienną określającą próg."
   ]
  }
 ],
 "metadata": {
  "kernelspec": {
   "display_name": "Python 3",
   "language": "python",
   "name": "python3"
  },
  "language_info": {
   "codemirror_mode": {
    "name": "ipython",
    "version": 3
   },
   "file_extension": ".py",
   "mimetype": "text/x-python",
   "name": "python",
   "nbconvert_exporter": "python",
   "pygments_lexer": "ipython3",
   "version": "3.8.3"
  }
 },
 "nbformat": 4,
 "nbformat_minor": 4
}
