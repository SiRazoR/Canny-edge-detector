{
 "cells": [
  {
   "cell_type": "markdown",
   "metadata": {},
   "source": [
    "# Narzędzia pomocnicze\n",
    "Podczas implementacji użyliśmy biblioteki o nazwie OpenCV, wspiera ona wiele algorytmów zwiazanych z rozpozanwaniem obrazów oraz uczeniem maszynowym\n",
    "\n",
    "# Dane wejściowe\n",
    "W implementacji ustawione zostały między innymi, maksymalny próg na 100, nazwy okienka czy też ratio które jest mnożnikiem używanym przy obliczeniu drugiego progu podczas wykonywania alogrytmu. Mnożnik ten otrzymał wartość 3 jako iż jest to zalecana wartość przez twórców biblioteki OpenCV\n",
    "\n",
    "max_Threshold = 100\n",
    "window_name = 'Canny'\n",
    "title_trackbar = 'Min Threshold:'\n",
    "ratio = 3 \n",
    "apertureSize = 3 \n",
    "pathToImage = \"ścieżka_do_pliku_z_obrazem\"\n",
    "\n",
    "# Działanie\n",
    "Wykonanie wykrycia krawędzi zachodzi poprzez użycie metody z biblioteki CV2 zaimportowanej pod nazwą cv jako cv.Canny(). Metoda ta jako argumenty przyjmuje wcześnie przeprocesowany obrazek, pierwszy próg używany w procedurze, drugi próg oraz operator Sobela, ktory jest uzywany do wykrywania krawedzi w cyfrowym przetwarzaniu obrazow\n",
    "\n",
    "# Przykłady\n",
    "### 1. Postać z tłem o jasnym kolorze\n",
    "[![N|Solid](https://i.imgur.com/ZWeh34l.png)](https://i.imgur.com/ZWeh34l.png)\n",
    "### 2. Postać bez tła\n",
    "[![N|Solid](https://i.imgur.com/iRKx0hr.png)](https://i.imgur.com/iRKx0hr.png)\n",
    "### 3. Postać z różnokolorowym tłem\n",
    "[![N|Solid](https://i.imgur.com/vkTbBnD.jpg)](https://i.imgur.com/vkTbBnD.jpg)\n",
    "[![N|Solid](https://i.imgur.com/xKwtXMl.png)](https://i.imgur.com/xKwtXMl.png)"
   ]
  },
  {
   "cell_type": "code",
   "execution_count": null,
   "metadata": {},
   "outputs": [],
   "source": [
    "import cv2 as cv\n",
    "\n",
    "max_Threshold = 100\n",
    "window_name = 'Canny'\n",
    "title_trackbar = 'Min Threshold:'\n",
    "ratio = 3 \n",
    "apertureSize = 3 \n",
    "pathToImage = \"C:\\\\Users\\\\Si RazoR\\\\Desktop\\\\projekt\\\\4.jpg\"\n",
    "\n",
    "def CannyThreshold(val):\n",
    "    low_threshold = val\n",
    "    img_blur = cv.blur(src_gray, (3,3))\n",
    "    detected_edges = cv.Canny(img_blur, low_threshold, low_threshold*ratio, apertureSize)\n",
    "    mask = detected_edges != 0\n",
    "    dst = src * (mask[:,:,None].astype(src.dtype))\n",
    "    cv.imshow(window_name, detected_edges)\n",
    "src = cv.imread(pathToImage)\n",
    "src_gray = cv.cvtColor(src, cv.COLOR_BGR2GRAY)\n",
    "cv.namedWindow(window_name)\n",
    "cv.createTrackbar(title_trackbar, window_name , 0, max_Threshold, CannyThreshold)\n",
    "CannyThreshold(0)\n",
    "cv.waitKey()"
   ]
  }
 ],
 "metadata": {
  "kernelspec": {
   "display_name": "Python 3",
   "language": "python",
   "name": "python3"
  },
  "language_info": {
   "codemirror_mode": {
    "name": "ipython",
    "version": 3
   },
   "file_extension": ".py",
   "mimetype": "text/x-python",
   "name": "python",
   "nbconvert_exporter": "python",
   "pygments_lexer": "ipython3",
   "version": "3.8.3"
  }
 },
 "nbformat": 4,
 "nbformat_minor": 4
}
